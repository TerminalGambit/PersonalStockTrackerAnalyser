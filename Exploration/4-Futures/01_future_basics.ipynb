{
 "cells": [
  {
   "cell_type": "markdown",
   "metadata": {},
   "source": [
    "# Futures Basics (01_futures_basics.ipynb)\n",
    "\n",
    "Welcome to the world of **Futures**! 🌟\n",
    "\n",
    "This notebook introduces:\n",
    "- What futures are\n",
    "- Basic terminology\n",
    "- Examples\n",
    "- Why they matter\n",
    "\n",
    "---"
   ]
  },
  {
   "cell_type": "markdown",
   "metadata": {},
   "source": [
    "## What Are Futures?\n",
    "\n",
    "Futures are standardized legal agreements to buy or sell something at a predetermined price at a specified time in the future.\n",
    "\n",
    "✅ \"Something\" = commodities (oil, wheat), financial instruments (stock indexes, currencies), even cryptocurrencies!\n",
    "\n",
    "✅ \"Specified time\" = a known expiration date (e.g., 3rd Friday of the month)\n",
    "\n",
    "✅ \"Standardized\" = contracts traded on regulated exchanges (like CME Group)\n"
   ]
  },
  {
   "cell_type": "markdown",
   "metadata": {},
   "source": [
    "## Key Terminology\n",
    "\n",
    "| Term            | Meaning                                                   |\n",
    "|-----------------|-----------------------------------------------------------|\n",
    "| Contract         | An agreement to buy/sell an asset at a future date        |\n",
    "| Expiration Date  | When the contract ends                                   |\n",
    "| Long Position    | Agreement to **buy** at expiration                       |\n",
    "| Short Position   | Agreement to **sell** at expiration                      |\n",
    "| Margin           | Collateral posted to maintain a position                 |\n",
    "| Settlement       | Cash or physical delivery at contract maturity          |\n"
   ]
  },
  {
   "cell_type": "markdown",
   "metadata": {},
   "source": [
    "## Simple Example\n",
    "\n",
    "- \"I agree today to buy 100 barrels of oil at $70 per barrel, for delivery in 3 months.\"\n",
    "\n",
    "Scenario at expiration:\n",
    "- If oil is **$80** → Good for me (profit)!\n",
    "- If oil is **$60** → Bad for me (loss)!\n"
   ]
  },
  {
   "cell_type": "markdown",
   "metadata": {},
   "source": [
    "## Why Are Futures Important?\n",
    "\n",
    "- **Hedging** → Farmers, companies lock in prices ahead of time.\n",
    "- **Speculation** → Traders bet on price moves without owning the asset.\n",
    "- **Liquidity** → Deep markets with lots of buyers/sellers.\n",
    "- **Leverage** → Small capital controls large positions (risky!).\n"
   ]
  }
 ],
 "metadata": {
  "kernelspec": {
   "display_name": "Python 3",
   "language": "python",
   "name": "python3"
  },
  "language_info": {
   "name": "python",
   "version": "3.8"
  }
 },
 "nbformat": 4,
 "nbformat_minor": 5
}
