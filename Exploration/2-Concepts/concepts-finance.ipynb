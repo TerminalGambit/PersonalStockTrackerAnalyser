{
 "cells": [
  {
   "cell_type": "markdown",
   "id": "a3dab868",
   "metadata": {},
   "source": [
    "### 📈 P/E Ratio (Price-to-Earnings)\n",
    "\n",
    "**Definition**: Ratio of the company's current stock price to its earnings per share (EPS).  \n",
    "**Formula**: `P/E = Price / EPS = Current Price / (Net Income / Shares Outstanding)`  \n",
    "**Why it matters**: Indicates how much investors are willing to pay for each dollar of earnings.  \n",
    "High P/E suggests growth expectations; low P/E may indicate undervaluation — or risk."
   ]
  },
  {
   "cell_type": "code",
   "execution_count": 8,
   "id": "e9702152",
   "metadata": {},
   "outputs": [
    {
     "name": "stdout",
     "output_type": "stream",
     "text": [
      "P/E Ratio (AAPL): 32.08571428571428\n"
     ]
    }
   ],
   "source": [
    "import yfinance as yf\n",
    "\n",
    "ticker = yf.Ticker(\"AAPL\")\n",
    "info = ticker.info\n",
    "\n",
    "price = info.get(\"currentPrice\")\n",
    "eps = info.get(\"trailingEps\")\n",
    "\n",
    "pe_ratio = price / eps if price and eps else None\n",
    "print(f\"P/E Ratio (AAPL): {pe_ratio}\")"
   ]
  },
  {
   "cell_type": "markdown",
   "id": "e4ca120f",
   "metadata": {},
   "source": [
    "### 📊 Debt-to-Equity Ratio\n",
    "\n",
    "**Definition**: Measures how much debt a company uses to finance its operations compared to shareholder equity.  \n",
    "**Formula**: `Debt/Equity = Total Liabilities / Shareholder Equity`  \n",
    "**Why it matters**: A high ratio may signal financial risk; a low ratio may indicate a conservative structure."
   ]
  },
  {
   "cell_type": "code",
   "execution_count": 9,
   "id": "a295ceb4",
   "metadata": {},
   "outputs": [
    {
     "name": "stdout",
     "output_type": "stream",
     "text": [
      "Debt-to-Equity Ratio (AAPL): 5.41\n"
     ]
    }
   ],
   "source": [
    "# Safer extraction with corrected keys based on your index list\n",
    "total_liab = bs.loc[\"Total Liabilities Net Minority Interest\"].iloc[0]\n",
    "shareholder_equity = bs.loc[\"Stockholders Equity\"].iloc[0]\n",
    "\n",
    "de_ratio = total_liab / shareholder_equity\n",
    "print(f\"Debt-to-Equity Ratio (AAPL): {de_ratio:.2f}\")"
   ]
  },
  {
   "cell_type": "markdown",
   "id": "bb1f2e69",
   "metadata": {},
   "source": []
  },
  {
   "cell_type": "markdown",
   "id": "13d9e625",
   "metadata": {},
   "source": [
    "### 💰 Gross Margin & Net Profit Margin\n",
    "\n",
    "- **Gross Margin** = Gross Profit / Total Revenue  \n",
    "- **Net Profit Margin** = Net Income / Total Revenue  \n",
    "These margins help assess profitability at different levels of the business."
   ]
  },
  {
   "cell_type": "code",
   "execution_count": 10,
   "id": "d9aea672",
   "metadata": {},
   "outputs": [
    {
     "name": "stdout",
     "output_type": "stream",
     "text": [
      "Gross Margin: 46.21%\n",
      "Net Profit Margin: 23.97%\n"
     ]
    }
   ],
   "source": [
    "is_df = ticker.financials  # income statement\n",
    "\n",
    "gross_profit = is_df.loc[\"Gross Profit\"].iloc[0]\n",
    "revenue = is_df.loc[\"Total Revenue\"].iloc[0]\n",
    "net_income = is_df.loc[\"Net Income\"].iloc[0]\n",
    "\n",
    "gross_margin = gross_profit / revenue\n",
    "net_margin = net_income / revenue\n",
    "\n",
    "print(f\"Gross Margin: {gross_margin:.2%}\")\n",
    "print(f\"Net Profit Margin: {net_margin:.2%}\")"
   ]
  },
  {
   "cell_type": "code",
   "execution_count": null,
   "id": "cb1f40b1",
   "metadata": {},
   "outputs": [],
   "source": []
  }
 ],
 "metadata": {
  "kernelspec": {
   "display_name": "Python 3",
   "language": "python",
   "name": "python3"
  },
  "language_info": {
   "codemirror_mode": {
    "name": "ipython",
    "version": 3
   },
   "file_extension": ".py",
   "mimetype": "text/x-python",
   "name": "python",
   "nbconvert_exporter": "python",
   "pygments_lexer": "ipython3",
   "version": "3.13.2"
  }
 },
 "nbformat": 4,
 "nbformat_minor": 5
}
