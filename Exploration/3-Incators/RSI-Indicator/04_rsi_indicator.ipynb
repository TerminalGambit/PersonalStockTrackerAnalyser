{
 "cells": [
  {
   "cell_type": "markdown",
   "id": "c1b32155",
   "metadata": {},
   "source": [
    "# 📊 Stock Analysis: Relative Strength Index (RSI)\n",
    "\n",
    "This notebook explores the **Relative Strength Index (RSI)**, a momentum oscillator that measures the speed and change of price movements. It helps assess whether a stock is **overbought** or **oversold**.\n"
   ]
  },
  {
   "cell_type": "code",
   "execution_count": null,
   "id": "12a27763",
   "metadata": {},
   "outputs": [],
   "source": [
    "import yfinance as yf\n",
    "import pandas as pd\n",
    "import matplotlib.pyplot as plt\n"
   ]
  },
  {
   "cell_type": "markdown",
   "id": "e4a9db7e",
   "metadata": {},
   "source": [
    "## Step 1: Load Historical Data\n",
    "\n",
    "We'll fetch 6 months of daily stock price data.\n"
   ]
  },
  {
   "cell_type": "code",
   "execution_count": null,
   "id": "0cdfc44c",
   "metadata": {},
   "outputs": [],
   "source": [
    "ticker = yf.Ticker(\"AAPL\")\n",
    "df = ticker.history(period=\"6mo\")\n",
    "df.head()\n"
   ]
  },
  {
   "cell_type": "markdown",
   "id": "a512efcc",
   "metadata": {},
   "source": [
    "## Step 2: Calculate the RSI\n",
    "\n",
    "RSI is typically calculated over a 14-day period:\n",
    "- RSI > 70: stock is considered **overbought**\n",
    "- RSI < 30: stock is considered **oversold**\n"
   ]
  },
  {
   "cell_type": "code",
   "execution_count": null,
   "id": "e5297d76",
   "metadata": {},
   "outputs": [],
   "source": [
    "delta = df[\"Close\"].diff()\n",
    "gain = (delta.where(delta > 0, 0)).rolling(window=14).mean()\n",
    "loss = (-delta.where(delta < 0, 0)).rolling(window=14).mean()\n",
    "\n",
    "rs = gain / loss\n",
    "df[\"RSI\"] = 100 - (100 / (1 + rs))\n",
    "df[[\"Close\", \"RSI\"]].tail()\n"
   ]
  },
  {
   "cell_type": "markdown",
   "id": "10b88f72",
   "metadata": {},
   "source": [
    "## Step 3: Plot the RSI with Thresholds\n",
    "\n",
    "We visualize the RSI and mark the overbought/oversold thresholds (70 and 30).\n"
   ]
  },
  {
   "cell_type": "code",
   "execution_count": null,
   "id": "ca7c6637",
   "metadata": {},
   "outputs": [],
   "source": [
    "plt.figure(figsize=(14, 6))\n",
    "plt.plot(df[\"RSI\"], label=\"RSI\", color=\"purple\")\n",
    "plt.axhline(70, color=\"red\", linestyle=\"--\", label=\"Overbought (70)\")\n",
    "plt.axhline(30, color=\"green\", linestyle=\"--\", label=\"Oversold (30)\")\n",
    "plt.title(\"AAPL Relative Strength Index (RSI)\")\n",
    "plt.xlabel(\"Date\")\n",
    "plt.ylabel(\"RSI Value\")\n",
    "plt.legend()\n",
    "plt.grid(True)\n",
    "plt.show()\n"
   ]
  },
  {
   "cell_type": "markdown",
   "id": "3b68921a",
   "metadata": {},
   "source": [
    "## Step 4: Interpretation\n",
    "\n",
    "- **RSI > 70** may signal that the stock is overbought and due for a correction.\n",
    "- **RSI < 30** may signal that the stock is oversold and could bounce back.\n",
    "- RSI is a common tool for **timing entry and exit** points in momentum trading strategies.\n"
   ]
  }
 ],
 "metadata": {},
 "nbformat": 4,
 "nbformat_minor": 5
}
