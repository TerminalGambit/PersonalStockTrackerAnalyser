{
 "cells": [
  {
   "cell_type": "markdown",
   "id": "02ec221b",
   "metadata": {},
   "source": [
    "# 📏 ATR (Average True Range) Indicator\n",
    "\n",
    "This notebook explores the **ATR (Average True Range)** indicator using Yahoo Finance data and Pandas. ATR measures market volatility by decomposing the entire range of an asset price for that period."
   ]
  },
  {
   "cell_type": "code",
   "execution_count": 5,
   "id": "70058e73",
   "metadata": {},
   "outputs": [],
   "source": [
    "import yfinance as yf\n",
    "import pandas as pd\n",
    "import matplotlib.pyplot as plt\n",
    "%matplotlib inline\n"
   ]
  },
  {
   "cell_type": "code",
   "execution_count": 6,
   "id": "ff977ed0",
   "metadata": {},
   "outputs": [
    {
     "data": {
      "text/html": [
       "<div>\n",
       "<style scoped>\n",
       "    .dataframe tbody tr th:only-of-type {\n",
       "        vertical-align: middle;\n",
       "    }\n",
       "\n",
       "    .dataframe tbody tr th {\n",
       "        vertical-align: top;\n",
       "    }\n",
       "\n",
       "    .dataframe thead th {\n",
       "        text-align: right;\n",
       "    }\n",
       "</style>\n",
       "<table border=\"1\" class=\"dataframe\">\n",
       "  <thead>\n",
       "    <tr style=\"text-align: right;\">\n",
       "      <th></th>\n",
       "      <th>Open</th>\n",
       "      <th>High</th>\n",
       "      <th>Low</th>\n",
       "      <th>Close</th>\n",
       "      <th>Volume</th>\n",
       "      <th>Dividends</th>\n",
       "      <th>Stock Splits</th>\n",
       "    </tr>\n",
       "    <tr>\n",
       "      <th>Date</th>\n",
       "      <th></th>\n",
       "      <th></th>\n",
       "      <th></th>\n",
       "      <th></th>\n",
       "      <th></th>\n",
       "      <th></th>\n",
       "      <th></th>\n",
       "    </tr>\n",
       "  </thead>\n",
       "  <tbody>\n",
       "    <tr>\n",
       "      <th>2024-10-25 00:00:00-04:00</th>\n",
       "      <td>229.235479</td>\n",
       "      <td>232.707832</td>\n",
       "      <td>229.065854</td>\n",
       "      <td>230.901810</td>\n",
       "      <td>38802300</td>\n",
       "      <td>0.0</td>\n",
       "      <td>0.0</td>\n",
       "    </tr>\n",
       "    <tr>\n",
       "      <th>2024-10-28 00:00:00-04:00</th>\n",
       "      <td>232.807625</td>\n",
       "      <td>234.214517</td>\n",
       "      <td>232.039312</td>\n",
       "      <td>232.887436</td>\n",
       "      <td>36087100</td>\n",
       "      <td>0.0</td>\n",
       "      <td>0.0</td>\n",
       "    </tr>\n",
       "    <tr>\n",
       "      <th>2024-10-29 00:00:00-04:00</th>\n",
       "      <td>232.588105</td>\n",
       "      <td>233.815399</td>\n",
       "      <td>231.809819</td>\n",
       "      <td>233.156845</td>\n",
       "      <td>35417200</td>\n",
       "      <td>0.0</td>\n",
       "      <td>0.0</td>\n",
       "    </tr>\n",
       "    <tr>\n",
       "      <th>2024-10-30 00:00:00-04:00</th>\n",
       "      <td>232.099178</td>\n",
       "      <td>232.957290</td>\n",
       "      <td>229.045901</td>\n",
       "      <td>229.594696</td>\n",
       "      <td>47070900</td>\n",
       "      <td>0.0</td>\n",
       "      <td>0.0</td>\n",
       "    </tr>\n",
       "    <tr>\n",
       "      <th>2024-10-31 00:00:00-04:00</th>\n",
       "      <td>228.836355</td>\n",
       "      <td>229.325284</td>\n",
       "      <td>224.875072</td>\n",
       "      <td>225.413895</td>\n",
       "      <td>64370100</td>\n",
       "      <td>0.0</td>\n",
       "      <td>0.0</td>\n",
       "    </tr>\n",
       "  </tbody>\n",
       "</table>\n",
       "</div>"
      ],
      "text/plain": [
       "                                 Open        High         Low       Close  \\\n",
       "Date                                                                        \n",
       "2024-10-25 00:00:00-04:00  229.235479  232.707832  229.065854  230.901810   \n",
       "2024-10-28 00:00:00-04:00  232.807625  234.214517  232.039312  232.887436   \n",
       "2024-10-29 00:00:00-04:00  232.588105  233.815399  231.809819  233.156845   \n",
       "2024-10-30 00:00:00-04:00  232.099178  232.957290  229.045901  229.594696   \n",
       "2024-10-31 00:00:00-04:00  228.836355  229.325284  224.875072  225.413895   \n",
       "\n",
       "                             Volume  Dividends  Stock Splits  \n",
       "Date                                                          \n",
       "2024-10-25 00:00:00-04:00  38802300        0.0           0.0  \n",
       "2024-10-28 00:00:00-04:00  36087100        0.0           0.0  \n",
       "2024-10-29 00:00:00-04:00  35417200        0.0           0.0  \n",
       "2024-10-30 00:00:00-04:00  47070900        0.0           0.0  \n",
       "2024-10-31 00:00:00-04:00  64370100        0.0           0.0  "
      ]
     },
     "execution_count": 6,
     "metadata": {},
     "output_type": "execute_result"
    }
   ],
   "source": [
    "ticker = \"AAPL\"\n",
    "stock = yf.Ticker(ticker)\n",
    "df = stock.history(period=\"6mo\")\n",
    "df.head()\n"
   ]
  },
  {
   "cell_type": "markdown",
   "id": "7998bbbe",
   "metadata": {},
   "source": [
    "## 🧮 Calculate ATR\n",
    "\n",
    "ATR is calculated using the following steps:\n",
    "1. Compute True Range (TR)\n",
    "2. Use rolling average (usually 14 periods) to compute ATR"
   ]
  },
  {
   "cell_type": "code",
   "execution_count": 7,
   "id": "5ec6049a",
   "metadata": {},
   "outputs": [
    {
     "data": {
      "text/html": [
       "<div>\n",
       "<style scoped>\n",
       "    .dataframe tbody tr th:only-of-type {\n",
       "        vertical-align: middle;\n",
       "    }\n",
       "\n",
       "    .dataframe tbody tr th {\n",
       "        vertical-align: top;\n",
       "    }\n",
       "\n",
       "    .dataframe thead th {\n",
       "        text-align: right;\n",
       "    }\n",
       "</style>\n",
       "<table border=\"1\" class=\"dataframe\">\n",
       "  <thead>\n",
       "    <tr style=\"text-align: right;\">\n",
       "      <th></th>\n",
       "      <th>Close</th>\n",
       "      <th>ATR</th>\n",
       "    </tr>\n",
       "    <tr>\n",
       "      <th>Date</th>\n",
       "      <th></th>\n",
       "      <th></th>\n",
       "    </tr>\n",
       "  </thead>\n",
       "  <tbody>\n",
       "    <tr>\n",
       "      <th>2025-04-17 00:00:00-04:00</th>\n",
       "      <td>196.979996</td>\n",
       "      <td>13.455000</td>\n",
       "    </tr>\n",
       "    <tr>\n",
       "      <th>2025-04-21 00:00:00-04:00</th>\n",
       "      <td>193.160004</td>\n",
       "      <td>13.296428</td>\n",
       "    </tr>\n",
       "    <tr>\n",
       "      <th>2025-04-22 00:00:00-04:00</th>\n",
       "      <td>199.740005</td>\n",
       "      <td>13.557142</td>\n",
       "    </tr>\n",
       "    <tr>\n",
       "      <th>2025-04-23 00:00:00-04:00</th>\n",
       "      <td>204.600006</td>\n",
       "      <td>13.849285</td>\n",
       "    </tr>\n",
       "    <tr>\n",
       "      <th>2025-04-24 00:00:00-04:00</th>\n",
       "      <td>208.369995</td>\n",
       "      <td>12.652848</td>\n",
       "    </tr>\n",
       "  </tbody>\n",
       "</table>\n",
       "</div>"
      ],
      "text/plain": [
       "                                Close        ATR\n",
       "Date                                            \n",
       "2025-04-17 00:00:00-04:00  196.979996  13.455000\n",
       "2025-04-21 00:00:00-04:00  193.160004  13.296428\n",
       "2025-04-22 00:00:00-04:00  199.740005  13.557142\n",
       "2025-04-23 00:00:00-04:00  204.600006  13.849285\n",
       "2025-04-24 00:00:00-04:00  208.369995  12.652848"
      ]
     },
     "execution_count": 7,
     "metadata": {},
     "output_type": "execute_result"
    }
   ],
   "source": [
    "df[\"H-L\"] = df[\"High\"] - df[\"Low\"]\n",
    "df[\"H-PC\"] = abs(df[\"High\"] - df[\"Close\"].shift(1))\n",
    "df[\"L-PC\"] = abs(df[\"Low\"] - df[\"Close\"].shift(1))\n",
    "df[\"TR\"] = df[[\"H-L\", \"H-PC\", \"L-PC\"]].max(axis=1)\n",
    "df[\"ATR\"] = df[\"TR\"].rolling(window=14).mean()\n",
    "df[[\"Close\", \"ATR\"]].tail()\n"
   ]
  },
  {
   "cell_type": "markdown",
   "id": "21960fa9",
   "metadata": {},
   "source": [
    "## 📊 Plot ATR with Price\n",
    "\n",
    "Visualize how ATR reflects periods of high and low volatility."
   ]
  },
  {
   "cell_type": "code",
   "execution_count": 8,
   "id": "6cbef15b",
   "metadata": {},
   "outputs": [
    {
     "data": {
      "image/png": "[encoded data removed]",
      "text/plain": [
       "<Figure size 1200x600 with 1 Axes>"
      ]
     },
     "metadata": {},
     "output_type": "display_data"
    }
   ],
   "source": [
    "plt.figure(figsize=(12, 6))\n",
    "plt.plot(df.index, df[\"Close\"], label=\"Close Price\")\n",
    "plt.plot(df.index, df[\"ATR\"], label=\"ATR (14)\", color=\"orange\")\n",
    "plt.title(f\"{ticker} - Close Price and ATR\")\n",
    "plt.xlabel(\"Date\")\n",
    "plt.ylabel(\"Price / ATR\")\n",
    "plt.legend()\n",
    "plt.grid(True)\n",
    "plt.tight_layout()\n",
    "plt.show()\n"
   ]
  },
  {
   "cell_type": "markdown",
   "id": "d78bf270",
   "metadata": {},
   "source": [
    "## 📌 Interpretation\n",
    "- Higher ATR → Higher volatility\n",
    "- Lower ATR → Market is calm or consolidating\n",
    "\n",
    "ATR is often used for position sizing and stop-loss decisions."
   ]
  }
 ],
 "metadata": {
  "kernelspec": {
   "display_name": "Python 3",
   "language": "python",
   "name": "python3"
  },
  "language_info": {
   "codemirror_mode": {
    "name": "ipython",
    "version": 3
   },
   "file_extension": ".py",
   "mimetype": "text/x-python",
   "name": "python",
   "nbconvert_exporter": "python",
   "pygments_lexer": "ipython3",
   "version": "3.13.2"
  }
 },
 "nbformat": 4,
 "nbformat_minor": 5
}
